{
  "nbformat": 4,
  "nbformat_minor": 0,
  "metadata": {
    "colab": {
      "provenance": []
    },
    "kernelspec": {
      "name": "python3",
      "display_name": "Python 3"
    },
    "language_info": {
      "name": "python"
    }
  },
  "cells": [
    {
      "cell_type": "code",
      "source": [
        "x = int(input(\"enter a number :\"))\n",
        "y = int(input(\"enter a number :\"))\n",
        "sum = x+y\n",
        "print(\"sum of the two numbers:\",sum)\n"
      ],
      "metadata": {
        "colab": {
          "base_uri": "https://localhost:8080/"
        },
        "id": "o_OgMWctHPKM",
        "outputId": "5b96e92d-0d39-4725-82ef-1562bfcaf66c"
      },
      "execution_count": null,
      "outputs": [
        {
          "output_type": "stream",
          "name": "stdout",
          "text": [
            "enter a number :12\n",
            "enter a number :18\n",
            "sum of the two numbers: 30\n"
          ]
        }
      ]
    },
    {
      "cell_type": "code",
      "source": [
        "a=int(input(\"enter a number :\"))\n",
        "if a % 2==0:\n",
        "  print(\"it is even\")\n",
        "else:\n",
        "  print(\"it is odd\")"
      ],
      "metadata": {
        "colab": {
          "base_uri": "https://localhost:8080/"
        },
        "id": "YnNdMpCBI0OE",
        "outputId": "31b8a819-8052-427e-865e-bc99bf583ae7"
      },
      "execution_count": null,
      "outputs": [
        {
          "output_type": "stream",
          "name": "stdout",
          "text": [
            "enter a number :23\n",
            "it is odd\n"
          ]
        }
      ]
    },
    {
      "cell_type": "code",
      "source": [
        "a=int(input(\"enter a number :\"))\n",
        "b=0\n",
        "for i in range(2,a):\n",
        "  if a%i==0:\n",
        "    b+=1\n",
        "    break\n",
        "if(b==0):\n",
        "  print(\"prime number\")\n",
        "else:\n",
        "  print(\"not a prime number\")\n",
        "\n",
        "\n"
      ],
      "metadata": {
        "id": "cc9Xsj8CLHu4",
        "colab": {
          "base_uri": "https://localhost:8080/"
        },
        "outputId": "d72348e6-a62e-4d19-802d-ac5a53fc6cbf"
      },
      "execution_count": null,
      "outputs": [
        {
          "output_type": "stream",
          "name": "stdout",
          "text": [
            "enter a number :3\n",
            "prime number\n"
          ]
        }
      ]
    },
    {
      "cell_type": "code",
      "source": [
        "a=int(input(\"enter a number :\"))\n",
        "b=int(input(\"enter a number :\"))\n",
        "c=int(input(\"enter a number :\"))\n",
        "d=int(input(\"enter a number :\"))\n",
        "l=[a,b,c,d]\n",
        "print(max(l))"
      ],
      "metadata": {
        "colab": {
          "base_uri": "https://localhost:8080/"
        },
        "id": "t9Xh-SpaEsLs",
        "outputId": "d4058700-53f0-4c60-b1f9-83ee5aa0c60e"
      },
      "execution_count": null,
      "outputs": [
        {
          "output_type": "stream",
          "name": "stdout",
          "text": [
            "enter a number :12\n",
            "enter a number :30\n",
            "enter a number :90\n",
            "enter a number :20\n",
            "90\n"
          ]
        }
      ]
    },
    {
      "cell_type": "code",
      "source": [
        "b=int(input(\"enter a number :\"))\n",
        "c=1\n",
        "for i in range(1,b+1):\n",
        "  c*=i\n",
        "print(c)"
      ],
      "metadata": {
        "colab": {
          "base_uri": "https://localhost:8080/"
        },
        "id": "JdUziCrlE-Sn",
        "outputId": "27c8e6e0-3c2d-47d3-eaca-77b9b1f5e43e"
      },
      "execution_count": null,
      "outputs": [
        {
          "output_type": "stream",
          "name": "stdout",
          "text": [
            "enter a number :5\n",
            "120\n"
          ]
        }
      ]
    },
    {
      "cell_type": "code",
      "source": [
        "a=int(input(\"enter number :\"))\n",
        "b=str(a)\n",
        "c=b[::-1]\n",
        "print(int(c))"
      ],
      "metadata": {
        "colab": {
          "base_uri": "https://localhost:8080/"
        },
        "id": "0naZu29JFY79",
        "outputId": "f66e9e35-a059-4501-d41a-bb518cc6ebd1"
      },
      "execution_count": null,
      "outputs": [
        {
          "output_type": "stream",
          "name": "stdout",
          "text": [
            "enter number :1234\n",
            "4321\n"
          ]
        }
      ]
    },
    {
      "cell_type": "code",
      "source": [
        "a=input(\"enter sequence :\")\n",
        "b=a[::-1]\n",
        "if b==a:\n",
        "  print(\"palindrome\")\n",
        "else:\n",
        "  print(\"not palindrome\")"
      ],
      "metadata": {
        "colab": {
          "base_uri": "https://localhost:8080/"
        },
        "id": "kxMb6YkZFzhr",
        "outputId": "c488d4ff-57fb-4d44-cb20-21d015cb6398"
      },
      "execution_count": null,
      "outputs": [
        {
          "output_type": "stream",
          "name": "stdout",
          "text": [
            "enter sequence :racecar\n",
            "palindrome\n"
          ]
        }
      ]
    },
    {
      "cell_type": "code",
      "source": [
        "a=int(input(\"enter the number :\"))\n",
        "q=0\n",
        "b=str(a)\n",
        "for i in range (len(b)):\n",
        "  c=0\n",
        "  c=a%10\n",
        "  a=a//10\n",
        "  q+=c\n",
        "print(q)"
      ],
      "metadata": {
        "colab": {
          "base_uri": "https://localhost:8080/"
        },
        "id": "hZ_N8-SvGO8-",
        "outputId": "8098cc03-c6a1-4ef1-a4e9-7f4981ae42b2"
      },
      "execution_count": null,
      "outputs": [
        {
          "output_type": "stream",
          "name": "stdout",
          "text": [
            "enter the number :7532\n",
            "17\n"
          ]
        }
      ]
    },
    {
      "cell_type": "code",
      "source": [
        "a=int(input(\"table value :\"))\n",
        "b=int(input(\"enter the number of multi :\"))\n",
        "for i in range(1,b+1):\n",
        "  print(a,\"*\",i,\"=\",a*i)"
      ],
      "metadata": {
        "colab": {
          "base_uri": "https://localhost:8080/"
        },
        "id": "SD4xUfEmGbnc",
        "outputId": "220cf376-f9c5-4a6d-88e9-0f2f1888a2fb"
      },
      "execution_count": null,
      "outputs": [
        {
          "output_type": "stream",
          "name": "stdout",
          "text": [
            "table value :12\n",
            "enter the number of multi :12\n",
            "12 * 1 = 12\n",
            "12 * 2 = 24\n",
            "12 * 3 = 36\n",
            "12 * 4 = 48\n",
            "12 * 5 = 60\n",
            "12 * 6 = 72\n",
            "12 * 7 = 84\n",
            "12 * 8 = 96\n",
            "12 * 9 = 108\n",
            "12 * 10 = 120\n",
            "12 * 11 = 132\n",
            "12 * 12 = 144\n"
          ]
        }
      ]
    },
    {
      "cell_type": "code",
      "source": [
        "a=int(input(\"enter a number :\"))\n",
        "b=int(input(\"enter a number :\"))\n",
        "d=input(\"enter the symbol :\")\n",
        "match(d):\n",
        "  case \"+\":\n",
        "    print(a+b)\n",
        "  case \"-\":\n",
        "    print(a-b)\n",
        "  case \"*\":\n",
        "    print(a*b)\n",
        "  case \"/\":\n",
        "    print(a/b)"
      ],
      "metadata": {
        "colab": {
          "base_uri": "https://localhost:8080/"
        },
        "id": "j8ie4ICXGhcm",
        "outputId": "10366c77-cb4a-4629-8626-8ee3b72e4dea"
      },
      "execution_count": null,
      "outputs": [
        {
          "output_type": "stream",
          "name": "stdout",
          "text": [
            "enter a number :12\n",
            "enter a number :20\n",
            "enter the symbol :*\n",
            "240\n"
          ]
        }
      ]
    },
    {
      "cell_type": "code",
      "source": [
        "for i in range(5):\n",
        "  print(i*\"*\")\n",
        "  print(\"\\n\")"
      ],
      "metadata": {
        "colab": {
          "base_uri": "https://localhost:8080/"
        },
        "id": "Quc9k3jeIb8d",
        "outputId": "8e7504a2-e1d0-4bd6-ea68-a7c422117094"
      },
      "execution_count": null,
      "outputs": [
        {
          "output_type": "stream",
          "name": "stdout",
          "text": [
            "\n",
            "\n",
            "\n",
            "*\n",
            "\n",
            "\n",
            "**\n",
            "\n",
            "\n",
            "***\n",
            "\n",
            "\n",
            "****\n",
            "\n",
            "\n"
          ]
        }
      ]
    }
  ]
}