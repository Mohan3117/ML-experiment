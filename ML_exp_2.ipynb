{
  "nbformat": 4,
  "nbformat_minor": 0,
  "metadata": {
    "colab": {
      "provenance": [],
      "authorship_tag": "ABX9TyNKS8iHU1vAL3HVl43UooSn",
      "include_colab_link": true
    },
    "kernelspec": {
      "name": "python3",
      "display_name": "Python 3"
    },
    "language_info": {
      "name": "python"
    }
  },
  "cells": [
    {
      "cell_type": "markdown",
      "metadata": {
        "id": "view-in-github",
        "colab_type": "text"
      },
      "source": [
        "<a href=\"https://colab.research.google.com/github/Mohan3117/ML-experiment/blob/main/ML_exp_2.ipynb\" target=\"_parent\"><img src=\"https://colab.research.google.com/assets/colab-badge.svg\" alt=\"Open In Colab\"/></a>"
      ]
    },
    {
      "cell_type": "code",
      "source": [
        "import pandas as pd\n",
        "from sklearn.preprocessing import LabelEncoder\n",
        "df=pd.read_csv('/content/FuelConsumption (2).csv')\n",
        "print(\"first 5 rows of the dataset\")\n",
        "print(df.head())"
      ],
      "metadata": {
        "id": "-F5JFshENZhP",
        "colab": {
          "base_uri": "https://localhost:8080/"
        },
        "outputId": "b3661485-b008-4009-acc0-e0abe5809991"
      },
      "execution_count": null,
      "outputs": [
        {
          "output_type": "stream",
          "name": "stdout",
          "text": [
            "first 5 rows of the dataset\n",
            "   MODELYEAR   MAKE       MODEL VEHICLECLASS  ENGINESIZE  CYLINDERS  \\\n",
            "0       2014  ACURA         ILX      COMPACT         2.0          4   \n",
            "1       2014  ACURA         ILX      COMPACT         2.4          4   \n",
            "2       2014  ACURA  ILX HYBRID      COMPACT         1.5          4   \n",
            "3       2014  ACURA     MDX 4WD  SUV - SMALL         3.5          6   \n",
            "4       2014  ACURA     RDX AWD  SUV - SMALL         3.5          6   \n",
            "\n",
            "  TRANSMISSION FUELTYPE  FUELCONSUMPTION_CITY  FUELCONSUMPTION_HWY  \\\n",
            "0          AS5        Z                   9.9                  6.7   \n",
            "1           M6        Z                  11.2                  7.7   \n",
            "2          AV7        Z                   6.0                  5.8   \n",
            "3          AS6        Z                  12.7                  9.1   \n",
            "4          AS6        Z                  12.1                  8.7   \n",
            "\n",
            "   FUELCONSUMPTION_COMB  FUELCONSUMPTION_COMB_MPG  CO2EMISSIONS  \n",
            "0                   8.5                        33           196  \n",
            "1                   9.6                        29           221  \n",
            "2                   5.9                        48           136  \n",
            "3                  11.1                        25           255  \n",
            "4                  10.6                        27           244  \n"
          ]
        }
      ]
    },
    {
      "cell_type": "code",
      "source": [
        "print(\"last 5 rows of the dataset\")\n",
        "print(df.tail())"
      ],
      "metadata": {
        "id": "9hkKRSEuOe6l",
        "colab": {
          "base_uri": "https://localhost:8080/"
        },
        "outputId": "345ed2ba-1e5e-451e-fadf-8cf31bfe25d5"
      },
      "execution_count": null,
      "outputs": [
        {
          "output_type": "stream",
          "name": "stdout",
          "text": [
            "last 5 rows of the dataset\n",
            "      MODELYEAR   MAKE     MODEL    VEHICLECLASS  ENGINESIZE  CYLINDERS  \\\n",
            "1062       2014  VOLVO  XC60 AWD     SUV - SMALL         3.0          6   \n",
            "1063       2014  VOLVO  XC60 AWD     SUV - SMALL         3.2          6   \n",
            "1064       2014  VOLVO  XC70 AWD     SUV - SMALL         3.0          6   \n",
            "1065       2014  VOLVO  XC70 AWD     SUV - SMALL         3.2          6   \n",
            "1066       2014  VOLVO  XC90 AWD  SUV - STANDARD         3.2          6   \n",
            "\n",
            "     TRANSMISSION FUELTYPE  FUELCONSUMPTION_CITY  FUELCONSUMPTION_HWY  \\\n",
            "1062          AS6        X                  13.4                  9.8   \n",
            "1063          AS6        X                  13.2                  9.5   \n",
            "1064          AS6        X                  13.4                  9.8   \n",
            "1065          AS6        X                  12.9                  9.3   \n",
            "1066          AS6        X                  14.9                 10.2   \n",
            "\n",
            "      FUELCONSUMPTION_COMB  FUELCONSUMPTION_COMB_MPG  CO2EMISSIONS  \n",
            "1062                  11.8                        24           271  \n",
            "1063                  11.5                        25           264  \n",
            "1064                  11.8                        24           271  \n",
            "1065                  11.3                        25           260  \n",
            "1066                  12.8                        22           294  \n"
          ]
        }
      ]
    },
    {
      "cell_type": "code",
      "source": [
        "print(\"\\ncolumn names:\")\n",
        "print(df.columns.tolist())"
      ],
      "metadata": {
        "id": "Ah0qONGoOqKS",
        "colab": {
          "base_uri": "https://localhost:8080/"
        },
        "outputId": "82e8f11c-c1a3-4b92-83a7-4e1ef780392b"
      },
      "execution_count": null,
      "outputs": [
        {
          "output_type": "stream",
          "name": "stdout",
          "text": [
            "\n",
            "column names:\n",
            "['MODELYEAR', 'MAKE', 'MODEL', 'VEHICLECLASS', 'ENGINESIZE', 'CYLINDERS', 'TRANSMISSION', 'FUELTYPE', 'FUELCONSUMPTION_CITY', 'FUELCONSUMPTION_HWY', 'FUELCONSUMPTION_COMB', 'FUELCONSUMPTION_COMB_MPG', 'CO2EMISSIONS']\n"
          ]
        }
      ]
    },
    {
      "cell_type": "code",
      "source": [
        "print(\"\\nShape of the dataset(rows,columns):\",df.shape)"
      ],
      "metadata": {
        "id": "EsKRbMNLPCVU",
        "collapsed": true,
        "colab": {
          "base_uri": "https://localhost:8080/"
        },
        "outputId": "d3eab25e-363f-4b19-d774-854965408fa8"
      },
      "execution_count": null,
      "outputs": [
        {
          "output_type": "stream",
          "name": "stdout",
          "text": [
            "\n",
            "Shape of the dataset(rows,columns): (1067, 13)\n"
          ]
        }
      ]
    },
    {
      "cell_type": "code",
      "source": [
        "print(\"\\nData types:\")\n",
        "print(df.dtypes)"
      ],
      "metadata": {
        "id": "AFiGW57ZPZPH",
        "colab": {
          "base_uri": "https://localhost:8080/"
        },
        "outputId": "e4693f45-5455-4dc2-e963-25161b7a40ad"
      },
      "execution_count": null,
      "outputs": [
        {
          "output_type": "stream",
          "name": "stdout",
          "text": [
            "\n",
            "Data types:\n",
            "MODELYEAR                     int64\n",
            "MAKE                         object\n",
            "MODEL                        object\n",
            "VEHICLECLASS                 object\n",
            "ENGINESIZE                  float64\n",
            "CYLINDERS                     int64\n",
            "TRANSMISSION                 object\n",
            "FUELTYPE                     object\n",
            "FUELCONSUMPTION_CITY        float64\n",
            "FUELCONSUMPTION_HWY         float64\n",
            "FUELCONSUMPTION_COMB        float64\n",
            "FUELCONSUMPTION_COMB_MPG      int64\n",
            "CO2EMISSIONS                  int64\n",
            "dtype: object\n"
          ]
        }
      ]
    },
    {
      "cell_type": "code",
      "source": [
        "print(\"\\nSummary statistics:\")\n",
        "print(df.describe())"
      ],
      "metadata": {
        "id": "-f678bZyQQjd",
        "colab": {
          "base_uri": "https://localhost:8080/"
        },
        "outputId": "a76a8d86-9700-460e-bf71-4fa67bfedcf2"
      },
      "execution_count": null,
      "outputs": [
        {
          "output_type": "stream",
          "name": "stdout",
          "text": [
            "\n",
            "Summary statistics:\n",
            "       MODELYEAR   ENGINESIZE    CYLINDERS  FUELCONSUMPTION_CITY  \\\n",
            "count     1067.0  1067.000000  1067.000000           1067.000000   \n",
            "mean      2014.0     3.346298     5.794752             13.296532   \n",
            "std          0.0     1.415895     1.797447              4.101253   \n",
            "min       2014.0     1.000000     3.000000              4.600000   \n",
            "25%       2014.0     2.000000     4.000000             10.250000   \n",
            "50%       2014.0     3.400000     6.000000             12.600000   \n",
            "75%       2014.0     4.300000     8.000000             15.550000   \n",
            "max       2014.0     8.400000    12.000000             30.200000   \n",
            "\n",
            "       FUELCONSUMPTION_HWY  FUELCONSUMPTION_COMB  FUELCONSUMPTION_COMB_MPG  \\\n",
            "count          1067.000000           1067.000000               1067.000000   \n",
            "mean              9.474602             11.580881                 26.441425   \n",
            "std               2.794510              3.485595                  7.468702   \n",
            "min               4.900000              4.700000                 11.000000   \n",
            "25%               7.500000              9.000000                 21.000000   \n",
            "50%               8.800000             10.900000                 26.000000   \n",
            "75%              10.850000             13.350000                 31.000000   \n",
            "max              20.500000             25.800000                 60.000000   \n",
            "\n",
            "       CO2EMISSIONS  \n",
            "count   1067.000000  \n",
            "mean     256.228679  \n",
            "std       63.372304  \n",
            "min      108.000000  \n",
            "25%      207.000000  \n",
            "50%      251.000000  \n",
            "75%      294.000000  \n",
            "max      488.000000  \n"
          ]
        }
      ]
    },
    {
      "cell_type": "code",
      "source": [
        "print(\"\\nSummary statistics:\")\n",
        "print(df.info())"
      ],
      "metadata": {
        "id": "sjbuMPA3Qwf_",
        "colab": {
          "base_uri": "https://localhost:8080/"
        },
        "outputId": "adaf43a6-5b05-4617-daf6-91e134bad2d1"
      },
      "execution_count": null,
      "outputs": [
        {
          "output_type": "stream",
          "name": "stdout",
          "text": [
            "\n",
            "Summary statistics:\n",
            "<class 'pandas.core.frame.DataFrame'>\n",
            "RangeIndex: 1067 entries, 0 to 1066\n",
            "Data columns (total 13 columns):\n",
            " #   Column                    Non-Null Count  Dtype  \n",
            "---  ------                    --------------  -----  \n",
            " 0   MODELYEAR                 1067 non-null   int64  \n",
            " 1   MAKE                      1067 non-null   object \n",
            " 2   MODEL                     1067 non-null   object \n",
            " 3   VEHICLECLASS              1067 non-null   object \n",
            " 4   ENGINESIZE                1067 non-null   float64\n",
            " 5   CYLINDERS                 1067 non-null   int64  \n",
            " 6   TRANSMISSION              1067 non-null   object \n",
            " 7   FUELTYPE                  1067 non-null   object \n",
            " 8   FUELCONSUMPTION_CITY      1067 non-null   float64\n",
            " 9   FUELCONSUMPTION_HWY       1067 non-null   float64\n",
            " 10  FUELCONSUMPTION_COMB      1067 non-null   float64\n",
            " 11  FUELCONSUMPTION_COMB_MPG  1067 non-null   int64  \n",
            " 12  CO2EMISSIONS              1067 non-null   int64  \n",
            "dtypes: float64(4), int64(4), object(5)\n",
            "memory usage: 108.5+ KB\n",
            "None\n"
          ]
        }
      ]
    },
    {
      "cell_type": "code",
      "source": [
        "print(\"\\nMissing values in each column :\")\n",
        "print(df.isnull().sum())"
      ],
      "metadata": {
        "id": "q6whU7rDRQlj",
        "colab": {
          "base_uri": "https://localhost:8080/"
        },
        "outputId": "bc6d3abf-f9f0-4a0b-fb5d-8ca5ff703ccd"
      },
      "execution_count": null,
      "outputs": [
        {
          "output_type": "stream",
          "name": "stdout",
          "text": [
            "\n",
            "Missing values in each column :\n",
            "MODELYEAR                   0\n",
            "MAKE                        0\n",
            "MODEL                       0\n",
            "VEHICLECLASS                0\n",
            "ENGINESIZE                  0\n",
            "CYLINDERS                   0\n",
            "TRANSMISSION                0\n",
            "FUELTYPE                    0\n",
            "FUELCONSUMPTION_CITY        0\n",
            "FUELCONSUMPTION_HWY         0\n",
            "FUELCONSUMPTION_COMB        0\n",
            "FUELCONSUMPTION_COMB_MPG    0\n",
            "CO2EMISSIONS                0\n",
            "dtype: int64\n"
          ]
        }
      ]
    },
    {
      "cell_type": "code",
      "source": [
        "df_ffill= df.copy()\n",
        "df_ffill[\"FUELCONSUMPTION_CITY\"]=df_ffill[\"FUELCONSUMPTION_CITY\"].fillna(method='ffill')\n",
        "print(\"\\nMissing values after forward fill:\")\n",
        "print(df_ffill.isnull().sum())"
      ],
      "metadata": {
        "id": "STXoRVQwNR7S",
        "colab": {
          "base_uri": "https://localhost:8080/"
        },
        "outputId": "1bef186c-e5e9-4dca-bd31-f1e0982a2ff5"
      },
      "execution_count": null,
      "outputs": [
        {
          "output_type": "stream",
          "name": "stdout",
          "text": [
            "\n",
            "Missing values after forward fill:\n",
            "MODELYEAR                   0\n",
            "MAKE                        0\n",
            "MODEL                       0\n",
            "VEHICLECLASS                0\n",
            "ENGINESIZE                  0\n",
            "CYLINDERS                   0\n",
            "TRANSMISSION                0\n",
            "FUELTYPE                    0\n",
            "FUELCONSUMPTION_CITY        0\n",
            "FUELCONSUMPTION_HWY         0\n",
            "FUELCONSUMPTION_COMB        0\n",
            "FUELCONSUMPTION_COMB_MPG    0\n",
            "CO2EMISSIONS                0\n",
            "dtype: int64\n"
          ]
        },
        {
          "output_type": "stream",
          "name": "stderr",
          "text": [
            "/tmp/ipython-input-1437984723.py:2: FutureWarning: Series.fillna with 'method' is deprecated and will raise in a future version. Use obj.ffill() or obj.bfill() instead.\n",
            "  df_ffill[\"FUELCONSUMPTION_CITY\"]=df_ffill[\"FUELCONSUMPTION_CITY\"].fillna(method='ffill')\n"
          ]
        }
      ]
    },
    {
      "cell_type": "code",
      "source": [
        "df_bfill= df.copy()\n",
        "df_bfill[\"FUELCONSUMPTION_CITY\"]=df_bfill[\"FUELCONSUMPTION_CITY\"].fillna(method='bfill')\n",
        "print(\"\\nMissing values after backward fill:\")\n",
        "print(df_bfill.isnull().sum())"
      ],
      "metadata": {
        "id": "rjnyrAFaNts9",
        "colab": {
          "base_uri": "https://localhost:8080/"
        },
        "outputId": "503fb00e-3f60-410d-a8ec-862473d6bd30"
      },
      "execution_count": null,
      "outputs": [
        {
          "output_type": "stream",
          "name": "stdout",
          "text": [
            "\n",
            "Missing values after backward fill:\n",
            "MODELYEAR                   0\n",
            "MAKE                        0\n",
            "MODEL                       0\n",
            "VEHICLECLASS                0\n",
            "ENGINESIZE                  0\n",
            "CYLINDERS                   0\n",
            "TRANSMISSION                0\n",
            "FUELTYPE                    0\n",
            "FUELCONSUMPTION_CITY        0\n",
            "FUELCONSUMPTION_HWY         0\n",
            "FUELCONSUMPTION_COMB        0\n",
            "FUELCONSUMPTION_COMB_MPG    0\n",
            "CO2EMISSIONS                0\n",
            "dtype: int64\n"
          ]
        },
        {
          "output_type": "stream",
          "name": "stderr",
          "text": [
            "/tmp/ipython-input-2572858716.py:2: FutureWarning: Series.fillna with 'method' is deprecated and will raise in a future version. Use obj.ffill() or obj.bfill() instead.\n",
            "  df_bfill[\"FUELCONSUMPTION_CITY\"]=df_bfill[\"FUELCONSUMPTION_CITY\"].fillna(method='bfill')\n"
          ]
        }
      ]
    },
    {
      "cell_type": "code",
      "source": [
        "#lable encoding'six' column\n",
        "df_encoded=df.copy()\n",
        "le=LabelEncoder()\n",
        "df_encoded['VEHICLECLASS']=le.fit_transform(df_encoded['VEHICLECLASS'])\n",
        "print(df_encoded[['VEHICLECLASS']])\n",
        "print(df_encoded[['VEHICLECLASS']].drop_duplicates())"
      ],
      "metadata": {
        "id": "5yCnCqvv6FeP",
        "colab": {
          "base_uri": "https://localhost:8080/"
        },
        "outputId": "0bae8a95-6784-4cc2-9bec-e240fbecc760"
      },
      "execution_count": null,
      "outputs": [
        {
          "output_type": "stream",
          "name": "stdout",
          "text": [
            "      VEHICLECLASS\n",
            "0                0\n",
            "1                0\n",
            "2                0\n",
            "3               11\n",
            "4               11\n",
            "...            ...\n",
            "1062            11\n",
            "1063            11\n",
            "1064            11\n",
            "1065            11\n",
            "1066            12\n",
            "\n",
            "[1067 rows x 1 columns]\n",
            "     VEHICLECLASS\n",
            "0               0\n",
            "3              11\n",
            "5               2\n",
            "12              3\n",
            "13             10\n",
            "14             13\n",
            "33              1\n",
            "37              9\n",
            "42             12\n",
            "210            14\n",
            "219            15\n",
            "237             6\n",
            "291             4\n",
            "428             7\n",
            "618             8\n",
            "839             5\n"
          ]
        }
      ]
    },
    {
      "cell_type": "code",
      "source": [
        "print(\"\\ncorrelation matrix (after preprocessing)\")\n",
        "print(df_encoded.select_dtypes (include='number').corr())"
      ],
      "metadata": {
        "id": "FVE-OqPt6m4W",
        "colab": {
          "base_uri": "https://localhost:8080/"
        },
        "outputId": "d1dcf58d-bd2c-42ac-dd08-b4f24f375554"
      },
      "execution_count": null,
      "outputs": [
        {
          "output_type": "stream",
          "name": "stdout",
          "text": [
            "\n",
            "correlation matrix (after preprocessing)\n",
            "                          MODELYEAR  VEHICLECLASS  ENGINESIZE  CYLINDERS  \\\n",
            "MODELYEAR                       NaN           NaN         NaN        NaN   \n",
            "VEHICLECLASS                    NaN      1.000000    0.240529   0.208528   \n",
            "ENGINESIZE                      NaN      0.240529    1.000000   0.934011   \n",
            "CYLINDERS                       NaN      0.208528    0.934011   1.000000   \n",
            "FUELCONSUMPTION_CITY            NaN      0.354363    0.832225   0.796473   \n",
            "FUELCONSUMPTION_HWY             NaN      0.430074    0.778746   0.724594   \n",
            "FUELCONSUMPTION_COMB            NaN      0.384678    0.819482   0.776788   \n",
            "FUELCONSUMPTION_COMB_MPG        NaN     -0.354073   -0.808554  -0.770430   \n",
            "CO2EMISSIONS                    NaN      0.388468    0.874154   0.849685   \n",
            "\n",
            "                          FUELCONSUMPTION_CITY  FUELCONSUMPTION_HWY  \\\n",
            "MODELYEAR                                  NaN                  NaN   \n",
            "VEHICLECLASS                          0.354363             0.430074   \n",
            "ENGINESIZE                            0.832225             0.778746   \n",
            "CYLINDERS                             0.796473             0.724594   \n",
            "FUELCONSUMPTION_CITY                  1.000000             0.965718   \n",
            "FUELCONSUMPTION_HWY                   0.965718             1.000000   \n",
            "FUELCONSUMPTION_COMB                  0.995542             0.985804   \n",
            "FUELCONSUMPTION_COMB_MPG             -0.935613            -0.893809   \n",
            "CO2EMISSIONS                          0.898039             0.861748   \n",
            "\n",
            "                          FUELCONSUMPTION_COMB  FUELCONSUMPTION_COMB_MPG  \\\n",
            "MODELYEAR                                  NaN                       NaN   \n",
            "VEHICLECLASS                          0.384678                 -0.354073   \n",
            "ENGINESIZE                            0.819482                 -0.808554   \n",
            "CYLINDERS                             0.776788                 -0.770430   \n",
            "FUELCONSUMPTION_CITY                  0.995542                 -0.935613   \n",
            "FUELCONSUMPTION_HWY                   0.985804                 -0.893809   \n",
            "FUELCONSUMPTION_COMB                  1.000000                 -0.927965   \n",
            "FUELCONSUMPTION_COMB_MPG             -0.927965                  1.000000   \n",
            "CO2EMISSIONS                          0.892129                 -0.906394   \n",
            "\n",
            "                          CO2EMISSIONS  \n",
            "MODELYEAR                          NaN  \n",
            "VEHICLECLASS                  0.388468  \n",
            "ENGINESIZE                    0.874154  \n",
            "CYLINDERS                     0.849685  \n",
            "FUELCONSUMPTION_CITY          0.898039  \n",
            "FUELCONSUMPTION_HWY           0.861748  \n",
            "FUELCONSUMPTION_COMB          0.892129  \n",
            "FUELCONSUMPTION_COMB_MPG     -0.906394  \n",
            "CO2EMISSIONS                  1.000000  \n"
          ]
        }
      ]
    },
    {
      "cell_type": "code",
      "source": [
        "print(\"\\nFinal Cleaned Dataframe:\")\n",
        "print(df_encoded.head())"
      ],
      "metadata": {
        "id": "V-j0cNMIVe2Q",
        "colab": {
          "base_uri": "https://localhost:8080/"
        },
        "outputId": "e8245d63-a39d-44bd-a131-6190ba232fa3"
      },
      "execution_count": null,
      "outputs": [
        {
          "output_type": "stream",
          "name": "stdout",
          "text": [
            "\n",
            "Final Cleaned Dataframe:\n",
            "   MODELYEAR   MAKE       MODEL  VEHICLECLASS  ENGINESIZE  CYLINDERS  \\\n",
            "0       2014  ACURA         ILX             0         2.0          4   \n",
            "1       2014  ACURA         ILX             0         2.4          4   \n",
            "2       2014  ACURA  ILX HYBRID             0         1.5          4   \n",
            "3       2014  ACURA     MDX 4WD            11         3.5          6   \n",
            "4       2014  ACURA     RDX AWD            11         3.5          6   \n",
            "\n",
            "  TRANSMISSION FUELTYPE  FUELCONSUMPTION_CITY  FUELCONSUMPTION_HWY  \\\n",
            "0          AS5        Z                   9.9                  6.7   \n",
            "1           M6        Z                  11.2                  7.7   \n",
            "2          AV7        Z                   6.0                  5.8   \n",
            "3          AS6        Z                  12.7                  9.1   \n",
            "4          AS6        Z                  12.1                  8.7   \n",
            "\n",
            "   FUELCONSUMPTION_COMB  FUELCONSUMPTION_COMB_MPG  CO2EMISSIONS  \n",
            "0                   8.5                        33           196  \n",
            "1                   9.6                        29           221  \n",
            "2                   5.9                        48           136  \n",
            "3                  11.1                        25           255  \n",
            "4                  10.6                        27           244  \n"
          ]
        }
      ]
    }
  ]
}